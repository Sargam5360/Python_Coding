{
 "cells": [
  {
   "cell_type": "code",
   "execution_count": 1,
   "metadata": {},
   "outputs": [],
   "source": [
    "#Python POC\n",
    "\n",
    "#Python Disney\n",
    "#Hi Sargam,\n",
    "\n",
    "#As discussed, attached is the python code to get started with and attached folders has code for python and BTEQ scripts. Please record path name, python file name, classes name in that python file and BTEQ scripts that python file is calling. \n",
    "\n"
   ]
  },
  {
   "cell_type": "code",
   "execution_count": 2,
   "metadata": {},
   "outputs": [],
   "source": [
    "#Path of the directory : C:\\Users\\sargshah\\OneDrive - Capgemini\\Desktop\\WORK\\d3\n",
    "\n",
    "from pathlib import Path \n",
    "pathlist = Path('d3').glob('**/*.py')\n",
    "\n",
    "for path in pathlist:\n",
    "    path_in_str = str(path)\n",
    "    print(path_in_str)\n"
   ]
  },
  {
   "cell_type": "code",
   "execution_count": null,
   "metadata": {},
   "outputs": [],
   "source": [
    "#list class name and arguments\n",
    "\n",
    "import ast\n",
    "\n",
    "def show_info(functionNode):\n",
    "    print(\"Function name:\", functionNode.name)\n",
    "    print(\"Args:\")\n",
    "    for arg in functionNode.args.args:\n",
    "        #import pdb; pdb.set_trace()\n",
    "        print(\"\\tParameter name:\", arg.arg)\n",
    "\n",
    "\n",
    "filename = \"ABDLoad.py\"\n",
    "with open(filename) as file:\n",
    "    node = ast.parse(file.read())\n",
    "\n",
    "functions = [n for n in node.body if isinstance(n, ast.FunctionDef)]\n",
    "classes = [n for n in node.body if isinstance(n, ast.ClassDef)]\n",
    "\n",
    "for function in functions:\n",
    "    show_info(function)\n",
    "\n",
    "for class_ in classes:\n",
    "    print(\"Class name:\", class_.name)\n",
    "    methods = [n for n in class_.body if isinstance(n, ast.FunctionDef)]\n",
    "    for method in methods:\n",
    "        show_info(method)"
   ]
  }
 ],
 "metadata": {
  "kernelspec": {
   "display_name": "Python 3",
   "language": "python",
   "name": "python3"
  },
  "language_info": {
   "codemirror_mode": {
    "name": "ipython",
    "version": 3
   },
   "file_extension": ".py",
   "mimetype": "text/x-python",
   "name": "python",
   "nbconvert_exporter": "python",
   "pygments_lexer": "ipython3",
   "version": "3.7.0"
  }
 },
 "nbformat": 4,
 "nbformat_minor": 2
}
